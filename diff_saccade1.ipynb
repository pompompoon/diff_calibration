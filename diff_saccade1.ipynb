import React, { useEffect, useState } from 'react';
import { LineChart, Line, XAxis, YAxis, CartesianGrid, Tooltip, Legend, ResponsiveContainer } from 'recharts';
import { Card, CardHeader, CardTitle, CardContent } from '@/components/ui/card';
import Papa from 'papaparse';

const SaccadeAnalysis = () => {
  const [analysisResults, setAnalysisResults] = useState(null);
  const [timeSeriesData, setTimeSeriesData] = useState([]);

  // 速度計算関数
  const calculateVelocity = (data) => {
    const velocities = [];
    for (let i = 1; i < data.length; i++) {
      const dx = data[i].RotatedEyeCenterX_DrawPointerX_Diff - data[i-1].RotatedEyeCenterX_DrawPointerX_Diff;
      const dy = data[i].RotatedEyeCenterY_DrawPointerY_Diff - data[i-1].RotatedEyeCenterY_DrawPointerY_Diff;
      const dt = (data[i].timestamp - data[i-1].timestamp) / 1000; // ms to s
      const velocity = Math.sqrt(dx * dx + dy * dy) / dt;
      velocities.push(velocity);
    }
    return velocities;
  };

  // 加速度計算関数
  const calculateAcceleration = (velocities, timestamps) => {
    const accelerations = [];
    for (let i = 1; i < velocities.length; i++) {
      const dv = velocities[i] - velocities[i-1];
      const dt = (timestamps[i] - timestamps[i-1]) / 1000; // ms to s
      const acceleration = dv / dt;
      accelerations.push(acceleration);
    }
    return accelerations;
  };

  // 躍度（jerk）計算関数
  const calculateJerk = (accelerations, timestamps) => {
    const jerks = [];
    for (let i = 1; i < accelerations.length; i++) {
      const da = accelerations[i] - accelerations[i-1];
      const dt = (timestamps[i] - timestamps[i-1]) / 1000; // ms to s
      const jerk = da / dt;
      jerks.push(jerk);
    }
    return jerks;
  };

  // サッカード検出関数
  const detectSaccades = (velocities, threshold = 30) => {
    return velocities.map(v => v > threshold);
  };

  // 方向転換検出関数
  const calculateDirectionChanges = (data) => {
    let changes = 0;
    for (let i = 2; i < data.length; i++) {
      const prev_dx = data[i-1].RotatedEyeCenterX_DrawPointerX_Diff - data[i-2].RotatedEyeCenterX_DrawPointerX_Diff;
      const prev_dy = data[i-1].RotatedEyeCenterY_DrawPointerY_Diff - data[i-2].RotatedEyeCenterY_DrawPointerY_Diff;
      const curr_dx = data[i].RotatedEyeCenterX_DrawPointerX_Diff - data[i-1].RotatedEyeCenterX_DrawPointerX_Diff;
      const curr_dy = data[i].RotatedEyeCenterY_DrawPointerY_Diff - data[i-1].RotatedEyeCenterY_DrawPointerY_Diff;
      
      const prev_angle = Math.atan2(prev_dy, prev_dx);
      const curr_angle = Math.atan2(curr_dy, curr_dx);
      const angle_diff = Math.abs(curr_angle - prev_angle);
      
      if (angle_diff > Math.PI/4) { // 45度以上の方向転換を検出
        changes++;
      }
    }
    return changes;
  };

  // FFT計算関数
  const calculateFFT = (velocities) => {
    // 単純なFFT実装（実際のアプリケーションではより洗練された実装が必要）
    const fft = new Float64Array(velocities.length);
    for (let k = 0; k < velocities.length; k++) {
      let real = 0;
      let imag = 0;
      for (let n = 0; n < velocities.length; n++) {
        const angle = -2 * Math.PI * k * n / velocities.length;
        real += velocities[n] * Math.cos(angle);
        imag += velocities[n] * Math.sin(angle);
      }
      fft[k] = Math.sqrt(real * real + imag * imag);
    }
    return fft;
  };

  useEffect(() => {
    const analyzeData = async () => {
      try {
        // CSVファイルの読み込み
        const response = await window.fs.readFile('calibration_1_20241009_20241119145059.csv', { encoding: 'utf8' });
        
        // CSVのパース
        Papa.parse(response, {
          header: true,
          dynamicTyping: true,
          complete: (results) => {
            const data = results.data.filter(row => row.timestamp != null); // 無効なデータの除去
            
            // 基本的な計算
            const velocities = calculateVelocity(data);
            const accelerations = calculateAcceleration(velocities, data.map(d => d.timestamp));
            const jerks = calculateJerk(accelerations, data.map(d => d.timestamp));
            const saccades = detectSaccades(velocities);
            const directionChanges = calculateDirectionChanges(data);
            const fftResult = calculateFFT(velocities);

            // 時系列データの準備
            const timeSeriesData = data.map((d, i) => ({
              timestamp: d.timestamp,
              velocity: velocities[i] || 0,
              acceleration: accelerations[i] || 0,
              jerk: jerks[i] || 0,
              isSaccade: saccades[i] || false
            }));

            // 分析結果の集計
            const analysisResults = {
              velocityStats: {
                mean: velocities.reduce((a, b) => a + b, 0) / velocities.length,
                max: Math.max(...velocities),
              },
              accelerationStats: {
                mean: accelerations.reduce((a, b) => a + b, 0) / accelerations.length,
                max: Math.max(...accelerations),
              },
              jerkStats: {
                mean: jerks.reduce((a, b) => a + b, 0) / jerks.length,
                max: Math.max(...jerks),
              },
              saccadeCount: saccades.filter(Boolean).length,
              directionChangesFreq: directionChanges / (data[data.length-1].timestamp - data[0].timestamp) * 1000,
              fixationTime: saccades.filter(x => !x).length * (data[1].timestamp - data[0].timestamp),
              totalDistance: velocities.reduce((a, b) => a + b, 0) * (data[1].timestamp - data[0].timestamp) / 1000,
              saccadeDistance: velocities.filter((_, i) => saccades[i]).reduce((a, b) => a + b, 0) * (data[1].timestamp - data[0].timestamp) / 1000,
              highFreqPower: fftResult.slice(Math.floor(fftResult.length/2)).reduce((a, b) => a + b, 0)
            };

            setAnalysisResults(analysisResults);
            setTimeSeriesData(timeSeriesData);
          }
        });
      } catch (error) {
        console.error('Error analyzing data:', error);
      }
    };

    analyzeData();
  }, []);

  if (!analysisResults) {
    return <div>Loading...</div>;
  }

  return (
    <div className="w-full space-y-4">
      <Card>
        <CardHeader>
          <CardTitle>サッカード分析結果</CardTitle>
        </CardHeader>
        <CardContent>
          <div className="grid grid-cols-2 gap-4">
            <div>
              <h3 className="font-bold">速度統計</h3>
              <p>平均速度: {analysisResults.velocityStats.mean.toFixed(2)} deg/s</p>
              <p>最大速度: {analysisResults.velocityStats.max.toFixed(2)} deg/s</p>
            </div>
            <div>
              <h3 className="font-bold">加速度統計</h3>
              <p>平均加速度: {analysisResults.accelerationStats.mean.toFixed(2)} deg/s²</p>
              <p>最大加速度: {analysisResults.accelerationStats.max.toFixed(2)} deg/s²</p>
            </div>
            <div>
              <h3 className="font-bold">躍度統計</h3>
              <p>平均躍度: {analysisResults.jerkStats.mean.toFixed(2)} deg/s³</p>
              <p>最大躍度: {analysisResults.jerkStats.max.toFixed(2)} deg/s³</p>
            </div>
            <div>
              <h3 className="font-bold">サッカード統計</h3>
              <p>サッカード回数: {analysisResults.saccadeCount}</p>
              <p>方向転換頻度: {analysisResults.directionChangesFreq.toFixed(2)} 回/s</p>
              <p>固視時間: {analysisResults.fixationTime.toFixed(2)} ms</p>
              <p>総移動距離: {analysisResults.totalDistance.toFixed(2)} deg</p>
              <p>サッカード移動距離: {analysisResults.saccadeDistance.toFixed(2)} deg</p>
            </div>
          </div>
        </CardContent>
      </Card>

      <Card>
        <CardHeader>
          <CardTitle>速度プロファイル</CardTitle>
        </CardHeader>
        <CardContent>
          <div className="h-64">
            <ResponsiveContainer width="100%" height="100%">
              <LineChart data={timeSeriesData}>
                <CartesianGrid strokeDasharray="3 3" />
                <XAxis dataKey="timestamp" />
                <YAxis />
                <Tooltip />
                <Legend />
                <Line type="monotone" dataKey="velocity" stroke="#8884d8" name="速度" />
              </LineChart>
            </ResponsiveContainer>
          </div>
        </CardContent>
      </Card>

      <Card>
        <CardHeader>
          <CardTitle>加速度プロファイル</CardTitle>
        </CardHeader>
        <CardContent>
          <div className="h-64">
            <ResponsiveContainer width="100%" height="100%">
              <LineChart data={timeSeriesData}>
                <CartesianGrid strokeDasharray="3 3" />
                <XAxis dataKey="timestamp" />
                <YAxis />
                <Tooltip />
                <Legend />
                <Line type="monotone" dataKey="acceleration" stroke="#82ca9d" name="加速度" />
              </LineChart>
            </ResponsiveContainer>
          </div>
        </CardContent>
      </Card>
    </div>
  );
};

export default SaccadeAnalysis;